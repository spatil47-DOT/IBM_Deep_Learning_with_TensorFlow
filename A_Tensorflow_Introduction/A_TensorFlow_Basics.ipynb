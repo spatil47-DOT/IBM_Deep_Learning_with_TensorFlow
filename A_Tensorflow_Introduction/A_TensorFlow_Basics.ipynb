{
  "nbformat": 4,
  "nbformat_minor": 0,
  "metadata": {
    "colab": {
      "name": "TensorFlow_basics.ipynb",
      "provenance": []
    },
    "kernelspec": {
      "name": "python3",
      "display_name": "Python 3"
    }
  },
  "cells": [
    {
      "cell_type": "markdown",
      "metadata": {
        "id": "gDjhqgCv54DX"
      },
      "source": [
        "<a id=\"ref2\"></a>\n",
        "<h2>How does TensorFlow work?</h2>\n",
        "\n",
        "TensorFlow defines computations as Graphs, and these are made with operations (also know as “ops”). So, when we work with TensorFlow, it is the same as defining a series of operations in a Graph.\n",
        "\n",
        "To execute these operations as computations, we must launch the Graph into a Session. The session translates and passes the operations represented into the graphs to the device you want to execute them on, be it a GPU or CPU. In fact, TensorFlow's capability to execute the code on different devices such as CPUs and GPUs is a consequence of it's specific structure.\n",
        "\n",
        "For example, the image below represents a graph in TensorFlow. <b>W</b>, <b>x</b> and <b>b</b> are tensors over the edges of this graph. <b>MatMul</b> is an operation over the tensors <b>W</b> and <b>x</b>, after that <b>Add</b> is called and add the result of the previous operator with <b>b</b>. The resultant tensors of each operation cross the next one until the end where it's possible to get the wanted result."
      ]
    },
    {
      "cell_type": "markdown",
      "metadata": {
        "id": "9L1Kc-q2543q"
      },
      "source": [
        "<img src='https://ibm.box.com/shared/static/a94cgezzwbkrq02jzfjjljrcaozu5s2q.png'>\n"
      ]
    },
    {
      "cell_type": "code",
      "metadata": {
        "id": "rBZ-Wk-76gX0",
        "outputId": "f5aea3f7-8400-48c2-8b21-2715fe91b7dd",
        "colab": {
          "base_uri": "https://localhost:8080/"
        }
      },
      "source": [
        "import tensorflow as tf\n",
        "import tensorflow.compat.v1 as tf\n",
        "tf.disable_v2_behavior()"
      ],
      "execution_count": 8,
      "outputs": [
        {
          "output_type": "stream",
          "text": [
            "WARNING:tensorflow:From /usr/local/lib/python3.6/dist-packages/tensorflow/python/compat/v2_compat.py:96: disable_resource_variables (from tensorflow.python.ops.variable_scope) is deprecated and will be removed in a future version.\n",
            "Instructions for updating:\n",
            "non-resource variables are not supported in the long term\n"
          ],
          "name": "stdout"
        }
      ]
    },
    {
      "cell_type": "markdown",
      "metadata": {
        "id": "AQsPZDnP6nqz"
      },
      "source": [
        "TensorFlow works as a graph computational model. Let's create our first graph which we named as graph1."
      ]
    },
    {
      "cell_type": "code",
      "metadata": {
        "id": "kHyVF4qP6hhQ"
      },
      "source": [
        "graph1 = tf.Graph()"
      ],
      "execution_count": 3,
      "outputs": []
    },
    {
      "cell_type": "code",
      "metadata": {
        "id": "HVF3smvU6srC"
      },
      "source": [
        "with graph1.as_default():\n",
        "    a = tf.constant([2], name = 'constant_a')\n",
        "    b = tf.constant([3], name = 'constant_b')"
      ],
      "execution_count": 4,
      "outputs": []
    },
    {
      "cell_type": "code",
      "metadata": {
        "id": "WtfxpSf597cI"
      },
      "source": [
        "with graph1.as_default():\n",
        "    c = tf.add(a, b)\n",
        "    #c = a + b is also a way to define the sum of the terms"
      ],
      "execution_count": 5,
      "outputs": []
    },
    {
      "cell_type": "code",
      "metadata": {
        "id": "SPv5HJIN-0Ub"
      },
      "source": [
        "sess = tf.Session(graph = graph1)"
      ],
      "execution_count": 9,
      "outputs": []
    },
    {
      "cell_type": "code",
      "metadata": {
        "id": "a-hbv0lP-7FE",
        "outputId": "a4714379-81e1-4283-f02d-0ed6d752b34a",
        "colab": {
          "base_uri": "https://localhost:8080/"
        }
      },
      "source": [
        "result = sess.run(c)\n",
        "print(result)"
      ],
      "execution_count": 10,
      "outputs": [
        {
          "output_type": "stream",
          "text": [
            "[5]\n"
          ],
          "name": "stdout"
        }
      ]
    },
    {
      "cell_type": "markdown",
      "metadata": {
        "id": "Gr7h4g8C_hF6"
      },
      "source": [
        "<h3>What is the meaning of Tensor?</h3>\n",
        "\n",
        "<div class=\"alert alert-success alertsuccess\" style=\"margin-top: 20px\">\n",
        "<font size = 3><strong>In TensorFlow all data is passed between operations in a computation graph, and these are passed in the form of Tensors, hence the name of TensorFlow.</strong></font>\n",
        "<br>\n",
        "<br>\n",
        "    The word <b>tensor</b> from new latin means \"that which stretches\". It is a mathematical object that is named \"tensor\" because an early application of tensors was the study of materials stretching under tension. The contemporary meaning of tensors can be taken as multidimensional arrays. \n",
        "\n",
        "\n",
        "\n",
        "</div>"
      ]
    },
    {
      "cell_type": "markdown",
      "metadata": {
        "id": "6HvYBvyZ_n87"
      },
      "source": [
        "Summarizing:<br><br>\n",
        "<table style=\"width:100%\">\n",
        "  <tr>\n",
        "    <td><b>Dimension</b></td>\n",
        "    <td><b>Physical Representation</b></td> \n",
        "    <td><b>Mathematical Object</b></td>\n",
        "    <td><b>In Code</b></td>\n",
        "  </tr>\n",
        "  \n",
        "  <tr>\n",
        "    <td>Zero </td>\n",
        "    <td>Point</td> \n",
        "    <td>Scalar (Single Number)</td>\n",
        "    <td>[ 1 ]</td>\n",
        "  </tr>\n",
        "\n",
        "  <tr>\n",
        "    <td>One</td>\n",
        "    <td>Line</td> \n",
        "    <td>Vector (Series of Numbers) </td>\n",
        "    <td>[ 1,2,3,4,... ]</td>\n",
        "  </tr>\n",
        "  \n",
        "   <tr>\n",
        "    <td>Two</td>\n",
        "    <td>Surface</td> \n",
        "    <td>Matrix (Table of Numbers)</td>\n",
        "       <td>[ [1,2,3,4,...], [1,2,3,4,...], [1,2,3,4,...],... ]</td>\n",
        "  </tr>\n",
        "  \n",
        "   <tr>\n",
        "    <td>Three</td>\n",
        "    <td>Volume</td> \n",
        "    <td>Tensor (Cube of Numbers)</td>\n",
        "    <td>[ [[1,2,...], [1,2,...], [1,2,...],...], [[1,2,...], [1,2,...], [1,2,...],...], [[1,2,...], [1,2,...], [1,2,...] ,...]... ]</td>\n",
        "  </tr>\n",
        "  \n",
        "</table>\n"
      ]
    },
    {
      "cell_type": "markdown",
      "metadata": {
        "id": "kFytczsh_ydu"
      },
      "source": [
        "<a id=\"ref4\"></a>\n",
        "<h2>Defining multidimensional arrays using TensorFlow</h2>\n",
        "Now we will try to define such arrays using TensorFlow:"
      ]
    },
    {
      "cell_type": "code",
      "metadata": {
        "id": "qYVqVbPz_zXi",
        "outputId": "9568a6ca-89d6-43e3-dd08-74953489b6ca",
        "colab": {
          "base_uri": "https://localhost:8080/"
        }
      },
      "source": [
        "graph2 = tf.Graph()\n",
        "with graph2.as_default():\n",
        "    Scalar = tf.constant(2)\n",
        "    Vector = tf.constant([5,6,2])\n",
        "    Matrix = tf.constant([[1,2,3],[2,3,4],[3,4,5]])\n",
        "    Tensor = tf.constant( [ [[1,2,3],[2,3,4],[3,4,5]] , [[4,5,6],[5,6,7],[6,7,8]] , [[7,8,9],[8,9,10],[9,10,11]] ] )\n",
        "with tf.Session(graph = graph2) as sess:\n",
        "    result = sess.run(Scalar)\n",
        "    print (\"Scalar (1 entry):\\n %s \\n\" % result)\n",
        "    result = sess.run(Vector)\n",
        "    print (\"Vector (3 entries) :\\n %s \\n\" % result)\n",
        "    result = sess.run(Matrix)\n",
        "    print (\"Matrix (3x3 entries):\\n %s \\n\" % result)\n",
        "    result = sess.run(Tensor)\n",
        "    print (\"Tensor (3x3x3 entries) :\\n %s \\n\" % result)"
      ],
      "execution_count": 11,
      "outputs": [
        {
          "output_type": "stream",
          "text": [
            "Scalar (1 entry):\n",
            " 2 \n",
            "\n",
            "Vector (3 entries) :\n",
            " [5 6 2] \n",
            "\n",
            "Matrix (3x3 entries):\n",
            " [[1 2 3]\n",
            " [2 3 4]\n",
            " [3 4 5]] \n",
            "\n",
            "Tensor (3x3x3 entries) :\n",
            " [[[ 1  2  3]\n",
            "  [ 2  3  4]\n",
            "  [ 3  4  5]]\n",
            "\n",
            " [[ 4  5  6]\n",
            "  [ 5  6  7]\n",
            "  [ 6  7  8]]\n",
            "\n",
            " [[ 7  8  9]\n",
            "  [ 8  9 10]\n",
            "  [ 9 10 11]]] \n",
            "\n"
          ],
          "name": "stdout"
        }
      ]
    },
    {
      "cell_type": "markdown",
      "metadata": {
        "id": "y22i5l0-AT_Q"
      },
      "source": [
        "We need to use another TensorFlow function called <b>tf.matmul()</b> for regular matrix product"
      ]
    },
    {
      "cell_type": "code",
      "metadata": {
        "id": "YjiR5nI2AlYY",
        "outputId": "c6948aaf-ef7f-487b-ed58-659b22d05e00",
        "colab": {
          "base_uri": "https://localhost:8080/"
        }
      },
      "source": [
        "graph3 = tf.Graph()\n",
        "with graph3.as_default():\n",
        "    Matrix_one = tf.constant([[2,3],[3,4]])\n",
        "    Matrix_two = tf.constant([[2,3],[3,4]])\n",
        "\n",
        "    mul_operation = tf.matmul(Matrix_one, Matrix_two)\n",
        "\n",
        "with tf.Session(graph = graph3) as sess:\n",
        "    result = sess.run(mul_operation)\n",
        "    print (\"Defined using tensorflow function :\")\n",
        "    print(result)"
      ],
      "execution_count": 12,
      "outputs": [
        {
          "output_type": "stream",
          "text": [
            "Defined using tensorflow function :\n",
            "[[13 18]\n",
            " [18 25]]\n"
          ],
          "name": "stdout"
        }
      ]
    },
    {
      "cell_type": "markdown",
      "metadata": {
        "id": "ecr4IUMdBR96"
      },
      "source": [
        "<a id=\"ref7\"></a>\n",
        "### Placeholders\n",
        "\n",
        "Now we know how to manipulate variables inside TensorFlow graph, but what about feeding data outside of a TensorFlow graph? \n",
        "\n",
        "If you want to feed data to a TensorFlow graph from outside a graph, you will need to use placeholders.\n",
        "\n",
        "So <b>what are these placeholders and what do they do?</b> \n",
        "\n",
        "Placeholders can be seen as \"holes\" in your model, \"holes\" which you will pass the data to, you can create them using <br> <b>tf.placeholder(_datatype_)</b>, where <b>_datatype_</b> specifies the type of data (integers, floating points, strings, booleans) along with its precision (8, 16, 32, 64) bits."
      ]
    },
    {
      "cell_type": "code",
      "metadata": {
        "id": "lk7AzMuIBc2g"
      },
      "source": [
        "a = tf.placeholder(tf.float32)"
      ],
      "execution_count": 13,
      "outputs": []
    },
    {
      "cell_type": "code",
      "metadata": {
        "id": "n-tJCfi7WsCw"
      },
      "source": [
        "b = a * 5"
      ],
      "execution_count": 17,
      "outputs": []
    },
    {
      "cell_type": "code",
      "metadata": {
        "id": "B9AI7X6DWuo1",
        "outputId": "a4a177b7-3896-4f14-fa41-37a06f5e924f",
        "colab": {
          "base_uri": "https://localhost:8080/"
        }
      },
      "source": [
        "with tf.Session() as sess:\n",
        "    result = sess.run(b,feed_dict={a:5})\n",
        "    print (result)"
      ],
      "execution_count": 18,
      "outputs": [
        {
          "output_type": "stream",
          "text": [
            "25.0\n"
          ],
          "name": "stdout"
        }
      ]
    }
  ]
}