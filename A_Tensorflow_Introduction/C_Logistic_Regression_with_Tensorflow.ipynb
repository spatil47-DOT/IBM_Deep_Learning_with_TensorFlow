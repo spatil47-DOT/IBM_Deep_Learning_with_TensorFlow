{
  "nbformat": 4,
  "nbformat_minor": 0,
  "metadata": {
    "colab": {
      "name": "Logistic_Regression_with_Tensorflow.ipynb",
      "provenance": [],
      "collapsed_sections": []
    },
    "kernelspec": {
      "name": "python3",
      "display_name": "Python 3"
    }
  },
  "cells": [
    {
      "cell_type": "markdown",
      "metadata": {
        "id": "BTux4gu-UlXq"
      },
      "source": [
        "<h2>Using Logistic Regression in TensorFlow</h2>\n"
      ]
    },
    {
      "cell_type": "code",
      "metadata": {
        "id": "CuyOGyWRUofJ",
        "outputId": "ee383d32-f5d1-4f9d-be59-65fd825ade00",
        "colab": {
          "base_uri": "https://localhost:8080/"
        }
      },
      "source": [
        "import tensorflow.compat.v1 as tf\n",
        "tf.disable_v2_behavior()\n",
        "import pandas as pd\n",
        "import numpy as np\n",
        "import time\n",
        "from sklearn.datasets import load_iris\n",
        "from sklearn.model_selection import train_test_split\n",
        "import matplotlib.pyplot as plt"
      ],
      "execution_count": 4,
      "outputs": [
        {
          "output_type": "stream",
          "text": [
            "WARNING:tensorflow:From /usr/local/lib/python3.6/dist-packages/tensorflow/python/compat/v2_compat.py:96: disable_resource_variables (from tensorflow.python.ops.variable_scope) is deprecated and will be removed in a future version.\n",
            "Instructions for updating:\n",
            "non-resource variables are not supported in the long term\n"
          ],
          "name": "stdout"
        }
      ]
    },
    {
      "cell_type": "code",
      "metadata": {
        "id": "rrFU4pv3U-OO"
      },
      "source": [
        "# Load the Iris inbuilt dataset\n",
        "iris = load_iris()\n",
        "iris_X, iris_y = iris.data[:-1,:], iris.target[:-1]\n",
        "iris_y= pd.get_dummies(iris_y).values\n",
        "trainX, testX, trainY, testY = train_test_split(iris_X, iris_y, test_size=0.33, random_state=42)"
      ],
      "execution_count": 5,
      "outputs": []
    },
    {
      "cell_type": "markdown",
      "metadata": {
        "id": "cBeBtBYKV6Km"
      },
      "source": [
        "Now we define x and y. These placeholders will hold our iris data (both the features and label matrices), and help pass them along to different parts of the algorithm. You can consider placeholders as empty shells into which we insert our data. We also need to give them shapes which correspond to the shape of our data. Later, we will insert data into these placeholders by “feeding” the placeholders the data via a “feed_dict” (Feed Dictionary).\n",
        "This feature of TensorFlow allows us to create an algorithm which accepts data and knows something about the shape of the data without knowing the amount of data going in. When we insert “batches” of data in training, we can easily adjust how many examples we train on in a single step without changing the entire algorithm."
      ]
    },
    {
      "cell_type": "code",
      "metadata": {
        "id": "DtSY1wSzWBHc"
      },
      "source": [
        "# numFeatures is the number of features in our input data.\n",
        "# In the iris dataset, this number is '4'.\n",
        "numFeatures = trainX.shape[1]\n",
        "\n",
        "# numLabels is the number of classes our data points can be in.\n",
        "# In the iris dataset, this number is '3'.\n",
        "numLabels = trainY.shape[1]\n",
        "\n",
        "\n",
        "# Placeholders\n",
        "# 'None' means TensorFlow shouldn't expect a fixed number in that dimension\n",
        "X = tf.placeholder(tf.float32, [None, numFeatures]) # Iris has 4 features, so X is a tensor to hold our data.\n",
        "yGold = tf.placeholder(tf.float32, [None, numLabels]) # This will be our correct answers matrix for 3 classes."
      ],
      "execution_count": 6,
      "outputs": []
    },
    {
      "cell_type": "markdown",
      "metadata": {
        "id": "WLhIhOh9YaAs"
      },
      "source": [
        "Here, we initialize both weights <code>W</code> and bias <code>b</code> as tensors full of zeros. Since we are going to learn <code>W</code> and <code>b</code>, their initial value does not matter too much. These variables are the objects which define the structure of our regression model, and we can save them after they have been trained so we can reuse them later.\n",
        "\n",
        "We define two TensorFlow variables as our parameters. These variables will hold the weights and biases of our logistic regression and they will be continually updated during training. \n",
        "\n",
        "Notice that <code>W</code> has a shape of [4, 3] because we want to multiply the 4-dimensional input vectors by it to produce 3-dimensional vectors of evidence for the difference classes. <code>b</code> has a shape of [3] so we can add it to the output. Moreover, unlike our placeholders above which are essentially empty shells waiting to be fed data, TensorFlow variables need to be initialized with values, e.g. with zeros."
      ]
    },
    {
      "cell_type": "code",
      "metadata": {
        "id": "N7bxp0XtYirf"
      },
      "source": [
        "W = tf.Variable(tf.zeros([4, 3]))  # 4-dimensional input and  3 classes\n",
        "b = tf.Variable(tf.zeros([3])) # 3-dimensional output [0,0,1],[0,1,0],[1,0,0]"
      ],
      "execution_count": 7,
      "outputs": []
    },
    {
      "cell_type": "code",
      "metadata": {
        "id": "8w7ew5ZhYrp9"
      },
      "source": [
        "#Randomly sample from a normal distribution with standard deviation .01\n",
        "\n",
        "weights = tf.Variable(tf.random_normal([numFeatures,numLabels],\n",
        "                                       mean=0,\n",
        "                                       stddev=0.01,\n",
        "                                       name=\"weights\"))\n",
        "\n",
        "bias = tf.Variable(tf.random_normal([1,numLabels],\n",
        "                                    mean=0,\n",
        "                                    stddev=0.01,\n",
        "                                    name=\"bias\"))"
      ],
      "execution_count": 8,
      "outputs": []
    },
    {
      "cell_type": "markdown",
      "metadata": {
        "id": "8cZWiH-jY2F4"
      },
      "source": [
        "\n",
        "We now define our operations in order to properly run the Logistic Regression. Logistic regression is typically thought of as a single equation:\n",
        "\n",
        "$$\n",
        "ŷ =sigmoid(WX+b)\n",
        "$$\n",
        "\n",
        "The three main components here are: \n",
        "- a weight times features matrix multiplication operation, \n",
        "- a summation of the weighted features and a bias term, \n",
        "- and finally the application of a sigmoid function. \n",
        "\n"
      ]
    },
    {
      "cell_type": "code",
      "metadata": {
        "id": "HB6jBfmZZF49"
      },
      "source": [
        "# Three-component breakdown of the Logistic Regression equation.\n",
        "# Note that these feed into each other.\n",
        "apply_weights_OP = tf.matmul(X, weights, name=\"apply_weights\")\n",
        "add_bias_OP = tf.add(apply_weights_OP, bias, name=\"add_bias\") \n",
        "activation_OP = tf.nn.sigmoid(add_bias_OP, name=\"activation\")"
      ],
      "execution_count": 9,
      "outputs": []
    },
    {
      "cell_type": "markdown",
      "metadata": {
        "id": "XqLrY7UAZQ6E"
      },
      "source": [
        "The function we are going to use is the <i>logistic function</i> $(\\frac{1}{1+e^{-Wx}})$, which is fed the input data after applying weights and bias. In TensorFlow, this function is implemented as the <code>nn.sigmoid</code> function. Effectively, this fits the weighted input with bias into a 0-100 percent curve, which is the required probability function."
      ]
    },
    {
      "cell_type": "markdown",
      "metadata": {
        "id": "b0nzRoHcZntc"
      },
      "source": [
        "<a id=\"ref3\"></a>\n",
        "<h2>Training</h2>\n",
        "\n",
        "The learning algorithm is how we search for the best weight vector (${\\bf w}$). This search is an optimization problem looking for the hypothesis that optimizes an error/cost measure.\n",
        "\n",
        "The Cost or Loss of the model, we want is to minimize that. Cost or loss tells us how good/bad the model is. The cost function we are going to utilize is the Squared Mean Error loss function. To minimize the cost function, here, we will use <a href=\"http://en.wikipedia.org/wiki/Gradient_descent\">gradient descent</a> instead. Specifically, we will use batch gradient descent which calculates the gradient from all data points in the data set.\n",
        "\n",
        "Before defining the cost function, we need to define how long we are going to train and how should we define the learning rate."
      ]
    },
    {
      "cell_type": "code",
      "metadata": {
        "id": "80_wCznKY_wW"
      },
      "source": [
        "# Number of Epochs in training\n",
        "numEpochs = 700\n",
        "\n",
        "# Define learning rate for the training iterations (essentially decay)\n",
        "learningRate = tf.train.exponential_decay(learning_rate=0.0008,\n",
        "                                          global_step= 1,\n",
        "                                          decay_steps=trainX.shape[0],\n",
        "                                          decay_rate= 0.95,\n",
        "                                          staircase=True)"
      ],
      "execution_count": 10,
      "outputs": []
    },
    {
      "cell_type": "code",
      "metadata": {
        "id": "jg-ali0Zbaix"
      },
      "source": [
        "# Defining our cost function - Squared Mean Error\n",
        "cost_OP = tf.nn.l2_loss(activation_OP-yGold, name=\"squared_error_cost\")\n",
        "\n",
        "# Defining our Gradient Descent\n",
        "training_OP = tf.train.GradientDescentOptimizer(learningRate).minimize(cost_OP) "
      ],
      "execution_count": 11,
      "outputs": []
    },
    {
      "cell_type": "markdown",
      "metadata": {
        "id": "tKF9mzokcY7_"
      },
      "source": [
        "Now we move on to actually running our operations. \n",
        "\n",
        "First, we need to initialize our weights and biases with zeros or random values via the inbuilt Initialization Operation (Op), <b>tf.initialize_all_variables()</b>. This Initialization Operation (Op) will become a node in our computational graph, and when we put the graph into a session, then the Op will run and create the variables."
      ]
    },
    {
      "cell_type": "code",
      "metadata": {
        "id": "mzbysq7sd0_S"
      },
      "source": [
        "# Create a tensorflow session\n",
        "sess = tf.Session()\n",
        "\n",
        "# Initialize the weights and biases variables.\n",
        "init_OP = tf.global_variables_initializer()\n",
        "\n",
        "# Initialize all tensorflow variables\n",
        "sess.run(init_OP)"
      ],
      "execution_count": 12,
      "outputs": []
    },
    {
      "cell_type": "markdown",
      "metadata": {
        "id": "OdZD9wGVeAfL"
      },
      "source": [
        "We need some additional operations to keep track of our model's efficiency over time. "
      ]
    },
    {
      "cell_type": "code",
      "metadata": {
        "id": "Ut0cS75qeEFa"
      },
      "source": [
        "# argmax(activation_OP, 1) returns the label with the most probability\n",
        "# argmax(yGold, 1) is the correct label\n",
        "correct_predictions_OP = tf.equal(tf.argmax(activation_OP,1),tf.argmax(yGold,1))\n",
        "\n",
        "# If every false prediction is 0 and every true prediction is 1, the average returns us the accuracy\n",
        "accuracy_OP = tf.reduce_mean(tf.cast(correct_predictions_OP, \"float\"))\n",
        "\n",
        "# Summary op for regression output\n",
        "activation_summary_OP = tf.summary.histogram(\"output\", activation_OP)\n",
        "\n",
        "# Summary op for accuracy\n",
        "accuracy_summary_OP = tf.summary.scalar(\"accuracy\", accuracy_OP)\n",
        "\n",
        "# Summary op for cost\n",
        "cost_summary_OP = tf.summary.scalar(\"cost\", cost_OP)\n",
        "\n",
        "# Summary ops to check how variables (W, b) are updating after each iteration\n",
        "weightSummary = tf.summary.histogram(\"weights\", weights.eval(session=sess))\n",
        "biasSummary = tf.summary.histogram(\"biases\", bias.eval(session=sess))\n",
        "\n",
        "# Merge all summaries\n",
        "merged = tf.summary.merge([activation_summary_OP, accuracy_summary_OP, cost_summary_OP, weightSummary, biasSummary])\n",
        "\n",
        "# Summary writer\n",
        "writer = tf.summary.FileWriter(\"summary_logs\", sess.graph)"
      ],
      "execution_count": 13,
      "outputs": []
    },
    {
      "cell_type": "markdown",
      "metadata": {
        "id": "OWR3TguNfCZg"
      },
      "source": [
        "Now we can define and run the actual training loop."
      ]
    },
    {
      "cell_type": "code",
      "metadata": {
        "id": "jzkbaxC1fEHY",
        "outputId": "9a5ecd7d-f325-43c7-f80e-5443ae0c363d",
        "colab": {
          "base_uri": "https://localhost:8080/"
        }
      },
      "source": [
        "# Initialize reporting variables\n",
        "cost = 0\n",
        "diff = 1\n",
        "epoch_values = []\n",
        "accuracy_values = []\n",
        "cost_values = []\n",
        "\n",
        "# Training epochs\n",
        "for i in range(numEpochs):\n",
        "    if i > 1 and diff < .0001:\n",
        "        print(\"change in cost %g; convergence.\"%diff)\n",
        "        break\n",
        "    else:\n",
        "        # Run training step\n",
        "        step = sess.run(training_OP, feed_dict={X: trainX, yGold: trainY})\n",
        "        # Report occasional stats\n",
        "        if i % 10 == 0:\n",
        "            # Add epoch to epoch_values\n",
        "            epoch_values.append(i)\n",
        "            # Generate accuracy stats on test data\n",
        "            train_accuracy, newCost = sess.run([accuracy_OP, cost_OP], feed_dict={X: trainX, yGold: trainY})\n",
        "            # Add accuracy to live graphing variable\n",
        "            accuracy_values.append(train_accuracy)\n",
        "            # Add cost to live graphing variable\n",
        "            cost_values.append(newCost)\n",
        "            # Re-assign values for variables\n",
        "            diff = abs(newCost - cost)\n",
        "            cost = newCost\n",
        "\n",
        "            #generate print statements\n",
        "            print(\"step %d, training accuracy %g, cost %g, change in cost %g\"%(i, train_accuracy, newCost, diff))\n",
        "\n",
        "# How well do we perform on held-out test data?\n",
        "print(\"final accuracy on test set: %s\" %str(sess.run(accuracy_OP, \n",
        "                                                     feed_dict={X: testX, \n",
        "                                                                yGold: testY})))"
      ],
      "execution_count": 14,
      "outputs": [
        {
          "output_type": "stream",
          "text": [
            "step 0, training accuracy 0.333333, cost 34.2552, change in cost 34.2552\n",
            "step 10, training accuracy 0.616162, cost 29.9943, change in cost 4.2609\n",
            "step 20, training accuracy 0.646465, cost 28.0598, change in cost 1.93447\n",
            "step 30, training accuracy 0.646465, cost 26.4322, change in cost 1.62753\n",
            "step 40, training accuracy 0.646465, cost 25.0825, change in cost 1.34971\n",
            "step 50, training accuracy 0.646465, cost 23.9685, change in cost 1.11406\n",
            "step 60, training accuracy 0.646465, cost 23.0465, change in cost 0.921938\n",
            "step 70, training accuracy 0.646465, cost 22.2783, change in cost 0.768196\n",
            "step 80, training accuracy 0.646465, cost 21.6324, change in cost 0.645931\n",
            "step 90, training accuracy 0.646465, cost 21.0838, change in cost 0.548582\n",
            "step 100, training accuracy 0.656566, cost 20.6132, change in cost 0.470669\n",
            "step 110, training accuracy 0.666667, cost 20.2053, change in cost 0.407856\n",
            "step 120, training accuracy 0.666667, cost 19.8485, change in cost 0.356775\n",
            "step 130, training accuracy 0.666667, cost 19.5337, change in cost 0.314877\n",
            "step 140, training accuracy 0.666667, cost 19.2534, change in cost 0.280205\n",
            "step 150, training accuracy 0.666667, cost 19.0022, change in cost 0.251268\n",
            "step 160, training accuracy 0.676768, cost 18.7753, change in cost 0.226908\n",
            "step 170, training accuracy 0.686869, cost 18.569, change in cost 0.206253\n",
            "step 180, training accuracy 0.686869, cost 18.3804, change in cost 0.188599\n",
            "step 190, training accuracy 0.707071, cost 18.207, change in cost 0.173409\n",
            "step 200, training accuracy 0.717172, cost 18.0468, change in cost 0.16025\n",
            "step 210, training accuracy 0.737374, cost 17.898, change in cost 0.148779\n",
            "step 220, training accuracy 0.737374, cost 17.7593, change in cost 0.138723\n",
            "step 230, training accuracy 0.747475, cost 17.6294, change in cost 0.129856\n",
            "step 240, training accuracy 0.757576, cost 17.5074, change in cost 0.121996\n",
            "step 250, training accuracy 0.767677, cost 17.3924, change in cost 0.114996\n",
            "step 260, training accuracy 0.787879, cost 17.2837, change in cost 0.108736\n",
            "step 270, training accuracy 0.787879, cost 17.1806, change in cost 0.103102\n",
            "step 280, training accuracy 0.787879, cost 17.0826, change in cost 0.0980225\n",
            "step 290, training accuracy 0.787879, cost 16.9891, change in cost 0.0934162\n",
            "step 300, training accuracy 0.79798, cost 16.8999, change in cost 0.0892277\n",
            "step 310, training accuracy 0.79798, cost 16.8145, change in cost 0.0854053\n",
            "step 320, training accuracy 0.79798, cost 16.7326, change in cost 0.0819035\n",
            "step 330, training accuracy 0.79798, cost 16.6539, change in cost 0.0786839\n",
            "step 340, training accuracy 0.79798, cost 16.5782, change in cost 0.0757198\n",
            "step 350, training accuracy 0.828283, cost 16.5052, change in cost 0.0729771\n",
            "step 360, training accuracy 0.828283, cost 16.4348, change in cost 0.0704365\n",
            "step 370, training accuracy 0.838384, cost 16.3667, change in cost 0.0680733\n",
            "step 380, training accuracy 0.838384, cost 16.3008, change in cost 0.0658722\n",
            "step 390, training accuracy 0.838384, cost 16.237, change in cost 0.0638161\n",
            "step 400, training accuracy 0.848485, cost 16.1751, change in cost 0.0618916\n",
            "step 410, training accuracy 0.848485, cost 16.115, change in cost 0.0600853\n",
            "step 420, training accuracy 0.848485, cost 16.0567, change in cost 0.0583878\n",
            "step 430, training accuracy 0.848485, cost 15.9999, change in cost 0.0567884\n",
            "step 440, training accuracy 0.868687, cost 15.9446, change in cost 0.0552807\n",
            "step 450, training accuracy 0.868687, cost 15.8907, change in cost 0.053854\n",
            "step 460, training accuracy 0.868687, cost 15.8382, change in cost 0.0525026\n",
            "step 470, training accuracy 0.878788, cost 15.787, change in cost 0.051219\n",
            "step 480, training accuracy 0.878788, cost 15.737, change in cost 0.0500021\n",
            "step 490, training accuracy 0.878788, cost 15.6882, change in cost 0.0488434\n",
            "step 500, training accuracy 0.878788, cost 15.6404, change in cost 0.0477381\n",
            "step 510, training accuracy 0.878788, cost 15.5937, change in cost 0.0466852\n",
            "step 520, training accuracy 0.878788, cost 15.5481, change in cost 0.0456781\n",
            "step 530, training accuracy 0.878788, cost 15.5034, change in cost 0.044714\n",
            "step 540, training accuracy 0.888889, cost 15.4596, change in cost 0.0437918\n",
            "step 550, training accuracy 0.89899, cost 15.4166, change in cost 0.0429087\n",
            "step 560, training accuracy 0.89899, cost 15.3746, change in cost 0.0420599\n",
            "step 570, training accuracy 0.89899, cost 15.3333, change in cost 0.0412426\n",
            "step 580, training accuracy 0.89899, cost 15.2929, change in cost 0.0404596\n",
            "step 590, training accuracy 0.909091, cost 15.2532, change in cost 0.0397034\n",
            "step 600, training accuracy 0.909091, cost 15.2142, change in cost 0.0389757\n",
            "step 610, training accuracy 0.909091, cost 15.1759, change in cost 0.0382738\n",
            "step 620, training accuracy 0.909091, cost 15.1383, change in cost 0.0375967\n",
            "step 630, training accuracy 0.909091, cost 15.1014, change in cost 0.0369406\n",
            "step 640, training accuracy 0.909091, cost 15.0651, change in cost 0.0363092\n",
            "step 650, training accuracy 0.909091, cost 15.0294, change in cost 0.0356989\n",
            "step 660, training accuracy 0.909091, cost 14.9943, change in cost 0.0351038\n",
            "step 670, training accuracy 0.909091, cost 14.9598, change in cost 0.0345306\n",
            "step 680, training accuracy 0.909091, cost 14.9258, change in cost 0.0339746\n",
            "step 690, training accuracy 0.909091, cost 14.8923, change in cost 0.0334358\n",
            "final accuracy on test set: 0.9\n"
          ],
          "name": "stdout"
        }
      ]
    },
    {
      "cell_type": "markdown",
      "metadata": {
        "id": "MfFWfeemf6de"
      },
      "source": [
        "We plot the cost to see how it behaves across training steps."
      ]
    },
    {
      "cell_type": "code",
      "metadata": {
        "id": "wDi7I4AXg-gD",
        "outputId": "0b838d3d-8170-4690-9b37-020ffbc71b29",
        "colab": {
          "base_uri": "https://localhost:8080/"
        }
      },
      "source": [
        "len(cost_values)"
      ],
      "execution_count": 17,
      "outputs": [
        {
          "output_type": "execute_result",
          "data": {
            "text/plain": [
              "70"
            ]
          },
          "metadata": {
            "tags": []
          },
          "execution_count": 17
        }
      ]
    },
    {
      "cell_type": "code",
      "metadata": {
        "id": "4s6lknCUf_AY",
        "outputId": "46a28528-602f-4cb9-97b5-e9d183af84fb",
        "colab": {
          "base_uri": "https://localhost:8080/",
          "height": 348
        }
      },
      "source": [
        "%matplotlib inline\n",
        "import numpy as np\n",
        "import matplotlib.pyplot as plt\n",
        "plt.plot([np.mean(cost_values[i-50:i]) for i in range(len(cost_values))])\n",
        "plt.ylabel('Cost')\n",
        "plt.title('Cost during training steps')\n",
        "plt.show()"
      ],
      "execution_count": 18,
      "outputs": [
        {
          "output_type": "stream",
          "text": [
            "/usr/local/lib/python3.6/dist-packages/numpy/core/fromnumeric.py:3335: RuntimeWarning: Mean of empty slice.\n",
            "  out=out, **kwargs)\n",
            "/usr/local/lib/python3.6/dist-packages/numpy/core/_methods.py:161: RuntimeWarning: invalid value encountered in double_scalars\n",
            "  ret = ret.dtype.type(ret / rcount)\n"
          ],
          "name": "stderr"
        },
        {
          "output_type": "display_data",
          "data": {
            "image/png": "[encoded data removed]",
            "text/plain": [
              "<Figure size 432x288 with 1 Axes>"
            ]
          },
          "metadata": {
            "tags": [],
            "needs_background": "light"
          }
        }
      ]
    }
  ]
}